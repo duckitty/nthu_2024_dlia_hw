{
  "cells": [
    {
      "cell_type": "markdown",
      "metadata": {
        "id": "view-in-github",
        "colab_type": "text"
      },
      "source": [
        "<a href=\"https://colab.research.google.com/github/duckitty/nthu_2024_dlia_hw/blob/main/07_assessment.ipynb\" target=\"_parent\"><img src=\"https://colab.research.google.com/assets/colab-badge.svg\" alt=\"Open In Colab\"/></a>"
      ]
    },
    {
      "cell_type": "markdown",
      "metadata": {
        "id": "xiEClqic2WHz"
      },
      "source": [
        "<center><a href=\"https://www.nvidia.com/dli\"> <img src=\"images/DLI_Header.png\" alt=\"Header\" style=\"width: 400px;\"/> </a></center>"
      ]
    },
    {
      "cell_type": "markdown",
      "metadata": {
        "id": "_8maDWew2WH4"
      },
      "source": [
        "# Assessment"
      ]
    },
    {
      "cell_type": "markdown",
      "metadata": {
        "id": "t-WH_ay52WH5"
      },
      "source": [
        "Congratulations on going through today's course! Hopefully, you've learned some valuable skills along the way and had fun doing it. Now it's time to put those skills to the test. In this assessment, you will train a new model that is able to recognize fresh and rotten fruit. You will need to get the model to a validation accuracy of `92%` in order to pass the assessment, though we challenge you to do even better if you can. You will have the use the skills that you learned in the previous exercises. Specifically, we suggest using some combination of transfer learning, data augmentation, and fine tuning. Once you have trained the model to be at least 92% accurate on the validation dataset, save your model, and then assess its accuracy. Let's get started!"
      ]
    },
    {
      "cell_type": "markdown",
      "metadata": {
        "id": "S6UZRvyZ2WH6"
      },
      "source": [
        "## The Dataset"
      ]
    },
    {
      "cell_type": "markdown",
      "metadata": {
        "id": "h8_hn-7y2WH6"
      },
      "source": [
        "In this exercise, you will train a model to recognize fresh and rotten fruits. The dataset comes from [Kaggle](https://www.kaggle.com/sriramr/fruits-fresh-and-rotten-for-classification), a great place to go if you're interested in starting a project after this class. The dataset structure is in the `data/fruits` folder. There are 6 categories of fruits: fresh apples, fresh oranges, fresh bananas, rotten apples, rotten oranges, and rotten bananas. This will mean that your model will require an output layer of 6 neurons to do the categorization successfully. You'll also need to compile the model with `categorical_crossentropy`, as we have more than two categories."
      ]
    },
    {
      "cell_type": "markdown",
      "metadata": {
        "id": "IXbtg_Q-2WH7"
      },
      "source": [
        "<img src=\"./images/fruits.png\" style=\"width: 600px;\">"
      ]
    },
    {
      "cell_type": "markdown",
      "metadata": {
        "id": "eviZGhvc2WH7"
      },
      "source": [
        "## Load ImageNet Base Model"
      ]
    },
    {
      "cell_type": "markdown",
      "metadata": {
        "id": "6JWQ1bgm2WH7"
      },
      "source": [
        "We encourage you to start with a model pretrained on ImageNet. Load the model with the correct weights, set an input shape, and choose to remove the last layers of the model. Remember that images have three dimensions: a height, and width, and a number of channels. Because these pictures are in color, there will be three channels for red, green, and blue. We've filled in the input shape for you. This cannot be changed or the assessment will fail. If you need a reference for setting up the pretrained model, please take a look at [notebook 05b](05b_presidential_doggy_door.ipynb) where we implemented transfer learning."
      ]
    },
    {
      "cell_type": "code",
      "execution_count": null,
      "metadata": {
        "id": "mmyhKhoO2WH8",
        "outputId": "5a94a68c-075e-4840-d827-d393a5bb1cc2"
      },
      "outputs": [
        {
          "name": "stdout",
          "output_type": "stream",
          "text": [
            "Downloading data from https://storage.googleapis.com/tensorflow/keras-applications/vgg16/vgg16_weights_tf_dim_ordering_tf_kernels_notop.h5\n",
            "58892288/58889256 [==============================] - 0s 0us/step\n"
          ]
        }
      ],
      "source": [
        "from tensorflow import keras\n",
        "\n",
        "base_model = keras.applications.VGG16(\n",
        "    weights='imagenet',\n",
        "    input_shape=(224, 224, 3),\n",
        "    include_top=False)"
      ]
    },
    {
      "cell_type": "markdown",
      "metadata": {
        "id": "7Jtg_cEw2WH-"
      },
      "source": [
        "## Freeze Base Model"
      ]
    },
    {
      "cell_type": "markdown",
      "metadata": {
        "id": "O6V6PTS72WH-"
      },
      "source": [
        "Next, we suggest freezing the base model, as done in [notebook 05b](05b_presidential_doggy_door.ipynb). This is done so that all the learning from the ImageNet dataset does not get destroyed in the initial training."
      ]
    },
    {
      "cell_type": "code",
      "execution_count": null,
      "metadata": {
        "id": "4nd5UOFT2WH-"
      },
      "outputs": [],
      "source": [
        "# Freeze base model\n",
        "base_model.trainable = False"
      ]
    },
    {
      "cell_type": "markdown",
      "metadata": {
        "id": "eqUEvnVY2WH_"
      },
      "source": [
        "## Add Layers to Model"
      ]
    },
    {
      "cell_type": "markdown",
      "metadata": {
        "id": "Z_g43eyx2WH_"
      },
      "source": [
        "Now it's time to add layers to the pretrained model. [Notebook 05b](05b_presidential_doggy_door.ipynb) can be used as a guide. Pay close attention to the last dense layer and make sure it has the correct number of neurons to classify the different types of fruit."
      ]
    },
    {
      "cell_type": "code",
      "execution_count": null,
      "metadata": {
        "id": "4x-kSrZ82WH_"
      },
      "outputs": [],
      "source": [
        "# Create inputs with correct shape\n",
        "inputs = keras.Input(shape=(224, 224, 3))\n",
        "\n",
        "x = base_model(inputs, training=False)\n",
        "\n",
        "# Add pooling layer or flatten layer\n",
        "x = keras.layers.GlobalAveragePooling2D()(x)\n",
        "\n",
        "# Add final dense layer\n",
        "outputs = keras.layers.Dense(6, activation = 'softmax')(x)\n",
        "\n",
        "# Combine inputs and outputs to create model\n",
        "model = keras.Model(inputs, outputs)"
      ]
    },
    {
      "cell_type": "code",
      "execution_count": null,
      "metadata": {
        "id": "7gs3q3Eq2WH_",
        "outputId": "bb519792-07c4-4b69-b96f-3007d23ff593"
      },
      "outputs": [
        {
          "name": "stdout",
          "output_type": "stream",
          "text": [
            "Model: \"model\"\n",
            "_________________________________________________________________\n",
            "Layer (type)                 Output Shape              Param #   \n",
            "=================================================================\n",
            "input_2 (InputLayer)         [(None, 224, 224, 3)]     0         \n",
            "_________________________________________________________________\n",
            "vgg16 (Model)                (None, 7, 7, 512)         14714688  \n",
            "_________________________________________________________________\n",
            "global_average_pooling2d (Gl (None, 512)               0         \n",
            "_________________________________________________________________\n",
            "dense (Dense)                (None, 6)                 3078      \n",
            "=================================================================\n",
            "Total params: 14,717,766\n",
            "Trainable params: 3,078\n",
            "Non-trainable params: 14,714,688\n",
            "_________________________________________________________________\n"
          ]
        }
      ],
      "source": [
        "model.summary()"
      ]
    },
    {
      "cell_type": "markdown",
      "metadata": {
        "id": "2Yrxz0Jw2WIA"
      },
      "source": [
        "## Compile Model"
      ]
    },
    {
      "cell_type": "markdown",
      "metadata": {
        "id": "0OIZpFv42WIA"
      },
      "source": [
        "Now it's time to compile the model with loss and metrics options. Remember that we're training on a number of different categories, rather than a binary classification problem."
      ]
    },
    {
      "cell_type": "code",
      "execution_count": null,
      "metadata": {
        "id": "MxK-Bf102WIA"
      },
      "outputs": [],
      "source": [
        "model.compile(loss = 'categorical_crossentropy' , metrics = ['accuracy'])"
      ]
    },
    {
      "cell_type": "markdown",
      "metadata": {
        "id": "TUiFfjHE2WIB"
      },
      "source": [
        "## Augment the Data"
      ]
    },
    {
      "cell_type": "markdown",
      "metadata": {
        "id": "w4rH0oxe2WIB"
      },
      "source": [
        "If you'd like, try to augment the data to improve the dataset. Feel free to look at [notebook 04a](04a_asl_augmentation.ipynb) and [notebook 05b](05b_presidential_doggy_door.ipynb) for augmentation examples. There is also documentation for the [Keras ImageDataGenerator class](https://keras.io/api/preprocessing/image/#imagedatagenerator-class). This step is optional, but it may be helpful to get to 92% accuracy."
      ]
    },
    {
      "cell_type": "code",
      "execution_count": null,
      "metadata": {
        "id": "14-fe4iR2WIB"
      },
      "outputs": [],
      "source": [
        "from tensorflow.keras.preprocessing.image import ImageDataGenerator\n",
        "\n",
        "datagen_train = ImageDataGenerator(\n",
        "    samplewise_center=True,  # set each sample mean to 0\n",
        "    rotation_range=10,  # randomly rotate images in the range (degrees, 0 to 180)\n",
        "    zoom_range=0.1,  # Randomly zoom image\n",
        "    width_shift_range=0.1,  # randomly shift images horizontally (fraction of total width)\n",
        "    height_shift_range=0.1,  # randomly shift images vertically (fraction of total height)\n",
        "    horizontal_flip=True,  # randomly flip images\n",
        "    vertical_flip=False,)\n",
        "datagen_valid = ImageDataGenerator(samplewise_center=True)"
      ]
    },
    {
      "cell_type": "markdown",
      "metadata": {
        "id": "R9BDFs8B2WIB"
      },
      "source": [
        "## Load Dataset"
      ]
    },
    {
      "cell_type": "markdown",
      "metadata": {
        "id": "-7nFagOR2WIB"
      },
      "source": [
        "Now it's time to load the train and validation datasets. Pick the right folders, as well as the right `target_size` of the images (it needs to match the height and width input of the model you've created). For a reference, check out [notebook 05b](05b_presidential_doggy_door.ipynb)."
      ]
    },
    {
      "cell_type": "code",
      "execution_count": null,
      "metadata": {
        "id": "-BbXhcaH2WIB",
        "outputId": "386c7095-8679-48f1-ef17-6ace3838e7c2"
      },
      "outputs": [
        {
          "name": "stdout",
          "output_type": "stream",
          "text": [
            "Found 1182 images belonging to 6 classes.\n",
            "Found 329 images belonging to 6 classes.\n"
          ]
        }
      ],
      "source": [
        "# load and iterate training dataset\n",
        "train_it = datagen_train.flow_from_directory(\n",
        "    \"data/fruits/train/\",\n",
        "    target_size=(224, 224),\n",
        "    color_mode=\"rgb\",\n",
        "    class_mode=\"categorical\",\n",
        ")\n",
        "# load and iterate validation dataset\n",
        "valid_it = datagen_valid.flow_from_directory(\n",
        "    \"data/fruits/valid/\",\n",
        "    target_size=(224, 224),\n",
        "    color_mode=\"rgb\",\n",
        "    class_mode=\"categorical\",\n",
        ")"
      ]
    },
    {
      "cell_type": "markdown",
      "metadata": {
        "id": "41FEFRGh2WIC"
      },
      "source": [
        "## Train the Model"
      ]
    },
    {
      "cell_type": "markdown",
      "metadata": {
        "id": "19wTUHtL2WIC"
      },
      "source": [
        "Time to train the model! Pass the `train` and `valid` iterators into the `fit` function, as well as setting the desired number of epochs."
      ]
    },
    {
      "cell_type": "code",
      "execution_count": null,
      "metadata": {
        "id": "YKC-Bg3O2WIC",
        "outputId": "7168c1c7-a9b4-45fc-814d-50671b42d2d6"
      },
      "outputs": [
        {
          "name": "stdout",
          "output_type": "stream",
          "text": [
            "Epoch 1/20\n",
            "37/36 [==============================] - 25s 688ms/step - loss: 2.4968 - accuracy: 0.4679 - val_loss: 0.9252 - val_accuracy: 0.7143\n",
            "Epoch 2/20\n",
            "37/36 [==============================] - 17s 472ms/step - loss: 0.5951 - accuracy: 0.7995 - val_loss: 0.4290 - val_accuracy: 0.8571\n",
            "Epoch 3/20\n",
            "37/36 [==============================] - 17s 469ms/step - loss: 0.3340 - accuracy: 0.8875 - val_loss: 0.2384 - val_accuracy: 0.9331\n",
            "Epoch 4/20\n",
            "37/36 [==============================] - 17s 468ms/step - loss: 0.1929 - accuracy: 0.9357 - val_loss: 0.2262 - val_accuracy: 0.9149\n",
            "Epoch 5/20\n",
            "37/36 [==============================] - 17s 471ms/step - loss: 0.1684 - accuracy: 0.9408 - val_loss: 0.2678 - val_accuracy: 0.9179\n",
            "Epoch 6/20\n",
            "37/36 [==============================] - 17s 468ms/step - loss: 0.1157 - accuracy: 0.9619 - val_loss: 0.2273 - val_accuracy: 0.9240\n",
            "Epoch 7/20\n",
            "37/36 [==============================] - 17s 465ms/step - loss: 0.1144 - accuracy: 0.9585 - val_loss: 0.1900 - val_accuracy: 0.9362\n",
            "Epoch 8/20\n",
            "37/36 [==============================] - 17s 467ms/step - loss: 0.0889 - accuracy: 0.9687 - val_loss: 0.1593 - val_accuracy: 0.9483\n",
            "Epoch 9/20\n",
            "37/36 [==============================] - 17s 466ms/step - loss: 0.0801 - accuracy: 0.9721 - val_loss: 0.1669 - val_accuracy: 0.9514\n",
            "Epoch 10/20\n",
            "37/36 [==============================] - 17s 464ms/step - loss: 0.0602 - accuracy: 0.9780 - val_loss: 0.2306 - val_accuracy: 0.9544\n",
            "Epoch 11/20\n",
            "37/36 [==============================] - 17s 466ms/step - loss: 0.0548 - accuracy: 0.9805 - val_loss: 0.1660 - val_accuracy: 0.9696\n",
            "Epoch 12/20\n",
            "37/36 [==============================] - 18s 478ms/step - loss: 0.0439 - accuracy: 0.9865 - val_loss: 0.1926 - val_accuracy: 0.9574\n",
            "Epoch 13/20\n",
            "37/36 [==============================] - 17s 468ms/step - loss: 0.0372 - accuracy: 0.9882 - val_loss: 0.1819 - val_accuracy: 0.9453\n",
            "Epoch 14/20\n",
            "37/36 [==============================] - 17s 463ms/step - loss: 0.0368 - accuracy: 0.9907 - val_loss: 0.1657 - val_accuracy: 0.9726\n",
            "Epoch 15/20\n",
            "37/36 [==============================] - 17s 459ms/step - loss: 0.0346 - accuracy: 0.9890 - val_loss: 0.2699 - val_accuracy: 0.9605\n",
            "Epoch 16/20\n",
            "37/36 [==============================] - 17s 461ms/step - loss: 0.0284 - accuracy: 0.9898 - val_loss: 0.1923 - val_accuracy: 0.9605\n",
            "Epoch 17/20\n",
            "37/36 [==============================] - 17s 459ms/step - loss: 0.0245 - accuracy: 0.9924 - val_loss: 0.1209 - val_accuracy: 0.9574\n",
            "Epoch 18/20\n",
            "37/36 [==============================] - 17s 466ms/step - loss: 0.0216 - accuracy: 0.9915 - val_loss: 0.2483 - val_accuracy: 0.9514\n",
            "Epoch 19/20\n",
            "37/36 [==============================] - 17s 472ms/step - loss: 0.0257 - accuracy: 0.9924 - val_loss: 0.2265 - val_accuracy: 0.9635\n",
            "Epoch 20/20\n",
            "37/36 [==============================] - 17s 466ms/step - loss: 0.0267 - accuracy: 0.9924 - val_loss: 0.1924 - val_accuracy: 0.9635\n"
          ]
        },
        {
          "data": {
            "text/plain": [
              "<tensorflow.python.keras.callbacks.History at 0x7f758d628710>"
            ]
          },
          "execution_count": 8,
          "metadata": {},
          "output_type": "execute_result"
        }
      ],
      "source": [
        "model.fit(train_it,\n",
        "          validation_data=valid_it,\n",
        "          steps_per_epoch=train_it.samples/train_it.batch_size,\n",
        "          validation_steps=valid_it.samples/valid_it.batch_size,\n",
        "          epochs=20)"
      ]
    },
    {
      "cell_type": "markdown",
      "metadata": {
        "id": "7hoY35lt2WIC"
      },
      "source": [
        "## Unfreeze Model for Fine Tuning"
      ]
    },
    {
      "cell_type": "markdown",
      "metadata": {
        "id": "9qApvWx_2WID"
      },
      "source": [
        "If you have reached 92% validation accuracy already, this next step is optional. If not, we suggest fine tuning the model with a very low learning rate."
      ]
    },
    {
      "cell_type": "code",
      "execution_count": null,
      "metadata": {
        "id": "KBnnXu2F2WID"
      },
      "outputs": [],
      "source": [
        "# Unfreeze the base model\n",
        "base_model.trainable = True\n",
        "\n",
        "# Compile the model with a low learning rate\n",
        "model.compile(optimizer=keras.optimizers.RMSprop(learning_rate = .00001),\n",
        "              loss = 'categorical_crossentropy' , metrics = 'accuracy')"
      ]
    },
    {
      "cell_type": "code",
      "execution_count": null,
      "metadata": {
        "id": "qQq_kr0R2WID",
        "outputId": "66a0e70e-d7fc-4467-f785-11667c165d06"
      },
      "outputs": [
        {
          "name": "stdout",
          "output_type": "stream",
          "text": [
            "Epoch 1/10\n",
            "37/36 [==============================] - 32s 854ms/step - loss: 0.1410 - accuracy: 0.9721 - val_loss: 0.1822 - val_accuracy: 0.9696\n",
            "Epoch 2/10\n",
            "37/36 [==============================] - 18s 478ms/step - loss: 0.0414 - accuracy: 0.9839 - val_loss: 0.1255 - val_accuracy: 0.9818\n",
            "Epoch 3/10\n",
            "37/36 [==============================] - 18s 481ms/step - loss: 0.0251 - accuracy: 0.9941 - val_loss: 0.1471 - val_accuracy: 0.9726\n",
            "Epoch 4/10\n",
            "37/36 [==============================] - 18s 477ms/step - loss: 0.0166 - accuracy: 0.9949 - val_loss: 0.1440 - val_accuracy: 0.9848\n",
            "Epoch 5/10\n",
            "37/36 [==============================] - 19s 501ms/step - loss: 0.0151 - accuracy: 0.9941 - val_loss: 0.2107 - val_accuracy: 0.9483\n",
            "Epoch 6/10\n",
            "37/36 [==============================] - 18s 492ms/step - loss: 0.0123 - accuracy: 0.9966 - val_loss: 0.1291 - val_accuracy: 0.9666\n",
            "Epoch 7/10\n",
            "37/36 [==============================] - 19s 507ms/step - loss: 0.0016 - accuracy: 1.0000 - val_loss: 0.2137 - val_accuracy: 0.9848\n",
            "Epoch 8/10\n",
            "37/36 [==============================] - 18s 491ms/step - loss: 0.0132 - accuracy: 0.9966 - val_loss: 0.4855 - val_accuracy: 0.9301\n",
            "Epoch 9/10\n",
            "37/36 [==============================] - 18s 480ms/step - loss: 0.0045 - accuracy: 0.9992 - val_loss: 0.1516 - val_accuracy: 0.9818\n",
            "Epoch 10/10\n",
            "37/36 [==============================] - 18s 495ms/step - loss: 0.0159 - accuracy: 0.9958 - val_loss: 0.1020 - val_accuracy: 0.9726\n"
          ]
        },
        {
          "data": {
            "text/plain": [
              "<tensorflow.python.keras.callbacks.History at 0x7f757831c4e0>"
            ]
          },
          "execution_count": 10,
          "metadata": {},
          "output_type": "execute_result"
        }
      ],
      "source": [
        "model.fit(train_it,\n",
        "          validation_data=valid_it,\n",
        "          steps_per_epoch=train_it.samples/train_it.batch_size,\n",
        "          validation_steps=valid_it.samples/valid_it.batch_size,\n",
        "          epochs=10)"
      ]
    },
    {
      "cell_type": "markdown",
      "metadata": {
        "id": "E2qNbpqj2WID"
      },
      "source": [
        "## Evaluate the Model"
      ]
    },
    {
      "cell_type": "markdown",
      "metadata": {
        "id": "UkSxMA_F2WIE"
      },
      "source": [
        "Hopefully, you now have a model that has a validation accuracy of 92% or higher. If not, you may want to go back and either run more epochs of training, or adjust your data augmentation.\n",
        "\n",
        "Once you are satisfied with the validation accuracy, evaluate the model by executing the following cell. The evaluate function will return a tuple, where the first value is your loss, and the second value is your accuracy. To pass, the model will need have an accuracy value of `92% or higher`."
      ]
    },
    {
      "cell_type": "code",
      "execution_count": null,
      "metadata": {
        "id": "4Xd7Njq22WIE",
        "outputId": "7a29dde4-a614-4e27-b0bf-bb3edf35b93f"
      },
      "outputs": [
        {
          "name": "stdout",
          "output_type": "stream",
          "text": [
            "11/10 [================================] - 1s 130ms/step - loss: 0.3503 - accuracy: 0.9666\n"
          ]
        },
        {
          "data": {
            "text/plain": [
              "[0.3502904176712036, 0.9665653705596924]"
            ]
          },
          "execution_count": 11,
          "metadata": {},
          "output_type": "execute_result"
        }
      ],
      "source": [
        "model.evaluate(valid_it, steps=valid_it.samples/valid_it.batch_size)"
      ]
    },
    {
      "cell_type": "markdown",
      "metadata": {
        "id": "JqmzS9Qb2WIE"
      },
      "source": [
        "## Run the Assessment"
      ]
    },
    {
      "cell_type": "markdown",
      "metadata": {
        "id": "F5CJf-n92WIE"
      },
      "source": [
        "To assess your model run the following two cells.\n",
        "\n",
        "**NOTE:** `run_assessment` assumes your model is named `model` and your validation data iterator is called `valid_it`. If for any reason you have modified these variable names, please update the names of the arguments passed to `run_assessment`."
      ]
    },
    {
      "cell_type": "code",
      "execution_count": null,
      "metadata": {
        "id": "wHlMCsS72WIF"
      },
      "outputs": [],
      "source": [
        "from run_assessment import run_assessment"
      ]
    },
    {
      "cell_type": "code",
      "execution_count": null,
      "metadata": {
        "id": "ctlZnhnH2WIF",
        "outputId": "04307868-c1c8-40e9-f710-f4be7b3f12c8"
      },
      "outputs": [
        {
          "name": "stdout",
          "output_type": "stream",
          "text": [
            "Evaluating model 5 times to obtain average accuracy...\n",
            "\n",
            "11/10 [================================] - 2s 137ms/step - loss: 0.2061 - accuracy: 0.9696\n",
            "11/10 [================================] - 2s 144ms/step - loss: 0.2055 - accuracy: 0.9726\n",
            "11/10 [================================] - 1s 125ms/step - loss: 0.2052 - accuracy: 0.9726\n",
            "11/10 [================================] - 1s 134ms/step - loss: 0.1999 - accuracy: 0.9757\n",
            "11/10 [================================] - 1s 136ms/step - loss: 0.2040 - accuracy: 0.9726\n",
            "\n",
            "Accuracy required to pass the assessment is 0.92 or greater.\n",
            "Your average accuracy is 0.9726.\n",
            "\n",
            "Congratulations! You passed the assessment!\n",
            "See instructions below to generate a certificate.\n"
          ]
        }
      ],
      "source": [
        "run_assessment(model, valid_it)"
      ]
    },
    {
      "cell_type": "markdown",
      "metadata": {
        "id": "tdYD8e432WIP"
      },
      "source": [
        "## Generate a Certificate"
      ]
    },
    {
      "cell_type": "markdown",
      "metadata": {
        "id": "JvQItdYg2WIP"
      },
      "source": [
        "If you passed the assessment, please return to the course page (shown below) and click the \"ASSESS TASK\" button, which will generate your certificate for the course."
      ]
    },
    {
      "cell_type": "markdown",
      "metadata": {
        "id": "vUJMeinP2WIP"
      },
      "source": [
        "<img src=\"./images/assess_task.png\" style=\"width: 800px;\">"
      ]
    },
    {
      "cell_type": "markdown",
      "metadata": {
        "id": "wtDmTyZ92WIP"
      },
      "source": [
        "<center><a href=\"https://www.nvidia.com/dli\"> <img src=\"images/DLI_Header.png\" alt=\"Header\" style=\"width: 400px;\"/> </a></center>"
      ]
    }
  ],
  "metadata": {
    "kernelspec": {
      "display_name": "Python 3",
      "language": "python",
      "name": "python3"
    },
    "language_info": {
      "codemirror_mode": {
        "name": "ipython",
        "version": 3
      },
      "file_extension": ".py",
      "mimetype": "text/x-python",
      "name": "python",
      "nbconvert_exporter": "python",
      "pygments_lexer": "ipython3",
      "version": "3.6.9"
    },
    "colab": {
      "provenance": [],
      "include_colab_link": true
    }
  },
  "nbformat": 4,
  "nbformat_minor": 0
}
